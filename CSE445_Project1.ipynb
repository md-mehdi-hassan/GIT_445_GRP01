{
 "cells": [
  {
   "cell_type": "code",
   "execution_count": 2,
   "metadata": {},
   "outputs": [
    {
     "name": "stdout",
     "output_type": "stream",
     "text": [
      "Skipping class 'cat' due to insufficient images.\n",
      "Skipping class 'dog' due to insufficient images.\n",
      "Class distribution after filtering: Counter({4: 89, 2: 77, 5: 72})\n",
      "Validation Accuracy: 75.00%\n",
      "Model saved as 'animal_classifier_rf_model.pkl'\n"
     ]
    }
   ],
   "source": [
    "import os\n",
    "import numpy as np\n",
    "from sklearn.model_selection import train_test_split\n",
    "from sklearn.ensemble import RandomForestClassifier\n",
    "from sklearn.metrics import accuracy_score\n",
    "from tensorflow.keras.preprocessing.image import img_to_array, load_img\n",
    "from collections import Counter\n",
    "import joblib\n",
    "\n",
    "# Directory for the dataset\n",
    "data_dir = \"/Users/samikazi/Desktop/GithubProject/dataset\"\n",
    "\n",
    "# Set image parameters\n",
    "img_height, img_width = 128, 128\n",
    "\n",
    "# Helper function to load and preprocess images\n",
    "def load_images_from_directory(directory, target_size):\n",
    "    images = []\n",
    "    labels = []\n",
    "    class_names = sorted(os.listdir(directory))\n",
    "    \n",
    "    for class_index, class_name in enumerate(class_names):\n",
    "        class_path = os.path.join(directory, class_name)\n",
    "        \n",
    "        if os.path.isdir(class_path):\n",
    "            class_images = []\n",
    "            for img_name in os.listdir(class_path):\n",
    "                img_path = os.path.join(class_path, img_name)\n",
    "                try:\n",
    "                    img = load_img(img_path, target_size=target_size)\n",
    "                    img_array = img_to_array(img)\n",
    "                    img_array = img_array.flatten()  # Flatten the 2D image to a 1D array\n",
    "                    class_images.append(img_array)\n",
    "                except Exception as e:\n",
    "                    print(f\"Could not load image {img_path}: {e}\")\n",
    "            \n",
    "            # Add class images if it has at least two samples\n",
    "            if len(class_images) >= 2:\n",
    "                images.extend(class_images)\n",
    "                labels.extend([class_index] * len(class_images))\n",
    "            else:\n",
    "                print(f\"Skipping class '{class_name}' due to insufficient images.\")\n",
    "                    \n",
    "    return np.array(images), np.array(labels), class_names\n",
    "\n",
    "# Load and preprocess images\n",
    "images, labels, class_names = load_images_from_directory(data_dir, target_size=(img_height, img_width))\n",
    "\n",
    "# Check class distribution after filtering\n",
    "class_counts = Counter(labels)\n",
    "print(\"Class distribution after filtering:\", class_counts)\n",
    "\n",
    "# Split data into training and validation sets\n",
    "X_train, X_val, y_train, y_val = train_test_split(\n",
    "    images, labels, test_size=0.2, random_state=42, stratify=labels\n",
    ")\n",
    "\n",
    "# Initialize and train a Random Forest Classifier\n",
    "rf_model = RandomForestClassifier(n_estimators=100, random_state=42)\n",
    "rf_model.fit(X_train, y_train)\n",
    "\n",
    "# Make predictions and calculate accuracy on the validation set\n",
    "y_pred = rf_model.predict(X_val)\n",
    "accuracy = accuracy_score(y_val, y_pred)\n",
    "print(f\"Validation Accuracy: {accuracy * 100:.2f}%\")\n",
    "\n",
    "# Save the trained model\n",
    "joblib.dump(rf_model, \"animal_classifier_rf_model.pkl\")\n",
    "print(\"Model saved as 'animal_classifier_rf_model.pkl'\")\n"
   ]
  },
  {
   "cell_type": "code",
   "execution_count": 8,
   "metadata": {},
   "outputs": [
    {
     "name": "stderr",
     "output_type": "stream",
     "text": [
      "ERROR:downloader:Response status code 401, file https://i.guim.co.uk/img/media/595623e12934b89a84bb3a739c0e080f77e0d69e/0_346_5184_3110/master/5184.jpg\n",
      "ERROR:downloader:Response status code 400, file https://media.gettyimages.com/id/1164046558/photo/baby-sheep-close-up.jpg\n",
      "ERROR:downloader:Exception caught when downloading file https://extension.msstate.edu/sites/default/files/styles/feature/public/blog/lamb%20pics.png, error: HTTPSConnectionPool(host='extension.msstate.edu', port=443): Max retries exceeded with url: /sites/default/files/styles/feature/public/blog/lamb%20pics.png (Caused by SSLError(SSLCertVerificationError(1, '[SSL: CERTIFICATE_VERIFY_FAILED] certificate verify failed: unable to get local issuer certificate (_ssl.c:1000)'))), remaining retry times: 2\n",
      "ERROR:downloader:Exception caught when downloading file https://extension.msstate.edu/sites/default/files/styles/feature/public/blog/lamb%20pics.png, error: HTTPSConnectionPool(host='extension.msstate.edu', port=443): Max retries exceeded with url: /sites/default/files/styles/feature/public/blog/lamb%20pics.png (Caused by SSLError(SSLCertVerificationError(1, '[SSL: CERTIFICATE_VERIFY_FAILED] certificate verify failed: unable to get local issuer certificate (_ssl.c:1000)'))), remaining retry times: 1\n",
      "ERROR:downloader:Exception caught when downloading file https://extension.msstate.edu/sites/default/files/styles/feature/public/blog/lamb%20pics.png, error: HTTPSConnectionPool(host='extension.msstate.edu', port=443): Max retries exceeded with url: /sites/default/files/styles/feature/public/blog/lamb%20pics.png (Caused by SSLError(SSLCertVerificationError(1, '[SSL: CERTIFICATE_VERIFY_FAILED] certificate verify failed: unable to get local issuer certificate (_ssl.c:1000)'))), remaining retry times: 0\n",
      "ERROR:downloader:Response status code 403, file https://assets.farmison.com/images/original/10900-dorset-down-sheep-1jpg\n",
      "ERROR:downloader:Response status code 404, file https://upload.wikimedia.org/wikipedia/commons/thumb/1/10/Cape_Mountain_Zebra_%28Equus_zebra_zebra%29_%2831707282834%29.jpg\n",
      "ERROR:downloader:Response status code 404, file https://upload.wikimedia.org/wikipedia/commons/thumb/6/63/Portrait_zebra.jpg\n",
      "ERROR:downloader:Response status code 403, file https://www.researchgate.net/publication/245012681/figure/fig2/AS:298266563497989@1448123698286/An-outlined-zebra-containing-lines-depicting-pigment-boundaries-familiar-the.png\n"
     ]
    },
    {
     "name": "stdout",
     "output_type": "stream",
     "text": [
      "Image downloading completed!\n"
     ]
    }
   ],
   "source": [
    "import os\n",
    "from icrawler.builtin import GoogleImageCrawler\n",
    "\n",
    "# Creating the main dataset folder and subfolder\n",
    "main_folder = \"./dataset\"\n",
    "os.makedirs(main_folder, exist_ok=True)\n",
    "\n",
    "# Create sybfolder for each class\n",
    "classes = ['dog', 'cow', 'cat', 'lamb', 'zebra']\n",
    "for class_name in classes:\n",
    "    os.makedirs(os.path.join(main_folder, class_name), exist_ok=True)\n",
    "\n",
    "def download_images(query, limit, output_dir):\n",
    "    crawler = GoogleImageCrawler(storage={'root_dir': output_dir})\n",
    "    crawler.crawl(keyword=query, max_num=limit)\n",
    "\n",
    "# Example usage\n",
    "download_images(\"dog\", 100, os.path.join(main_folder, \"dog\"))\n",
    "download_images(\"cow\", 100, os.path.join(main_folder, \"cow\"))\n",
    "download_images(\"cat\", 100, os.path.join(main_folder, \"cat\"))\n",
    "download_images(\"lamb\", 100, os.path.join(main_folder, \"lamb\"))\n",
    "download_images(\"zebra\", 100, os.path.join(main_folder, \"zebra\"))\n",
    "\n",
    "print(\"Image downloading completed!\")\n"
   ]
  }
 ],
 "metadata": {
  "kernelspec": {
   "display_name": "Python 3",
   "language": "python",
   "name": "python3"
  },
  "language_info": {
   "codemirror_mode": {
    "name": "ipython",
    "version": 3
   },
   "file_extension": ".py",
   "mimetype": "text/x-python",
   "name": "python",
   "nbconvert_exporter": "python",
   "pygments_lexer": "ipython3",
   "version": "3.12.3"
  }
 },
 "nbformat": 4,
 "nbformat_minor": 2
}
